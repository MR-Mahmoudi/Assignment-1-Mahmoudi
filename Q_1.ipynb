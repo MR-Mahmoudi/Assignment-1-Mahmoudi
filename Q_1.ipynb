{
  "nbformat": 4,
  "nbformat_minor": 0,
  "metadata": {
    "colab": {
      "provenance": []
    },
    "kernelspec": {
      "name": "python3",
      "display_name": "Python 3"
    },
    "language_info": {
      "name": "python"
    }
  },
  "cells": [
    {
      "cell_type": "code",
      "execution_count": 1,
      "metadata": {
        "id": "CbuZZcS4GI1I"
      },
      "outputs": [],
      "source": [
        "import matplotlib.pyplot as plt\n",
        "import numpy as np\n",
        "import cv2"
      ]
    },
    {
      "cell_type": "code",
      "source": [
        "x_train = np.load('/content/x_train.npy')\n",
        "y_train = np.load('/content/y_train.npy')\n",
        "print(np.shape(x_train))\n",
        "print(np.shape(x_train.flatten()), np.shape(y_train))"
      ],
      "metadata": {
        "colab": {
          "base_uri": "https://localhost:8080/"
        },
        "id": "nAJ6sHJfGSNm",
        "outputId": "3a678e11-f4e6-4601-883f-864be3d2fd22"
      },
      "execution_count": 2,
      "outputs": [
        {
          "output_type": "stream",
          "name": "stdout",
          "text": [
            "(100, 1)\n",
            "(100,) (100,)\n"
          ]
        }
      ]
    },
    {
      "cell_type": "markdown",
      "source": [
        "we converted x to has the same shape as y."
      ],
      "metadata": {
        "id": "m33gwuQUH2Yl"
      }
    },
    {
      "cell_type": "code",
      "source": [
        "plt.scatter(x_train, y_train)\n",
        "plt.show()"
      ],
      "metadata": {
        "colab": {
          "base_uri": "https://localhost:8080/",
          "height": 265
        },
        "id": "0WaS8AKtGUwN",
        "outputId": "3bc9161f-5dca-4528-dfe5-f5704bec6460"
      },
      "execution_count": 3,
      "outputs": [
        {
          "output_type": "display_data",
          "data": {
            "text/plain": [
              "<Figure size 432x288 with 1 Axes>"
            ],
            "image/png": "[encoded data removed]"
          },
          "metadata": {
            "needs_background": "light"
          }
        }
      ]
    },
    {
      "cell_type": "markdown",
      "source": [
        "the plot shows us that it does not follow a linear function.\n",
        "First of all we need to define what our hypothesis function looks like because we will be using this hypothesis for calculating the cost later on. We know for linear regression our hypothesis is: hθ(x) = θ0 + θ1x1, because we have one feature."
      ],
      "metadata": {
        "id": "4YXPk0PuGflv"
      }
    },
    {
      "cell_type": "markdown",
      "source": [
        "What about the cost function? The equation for the cost function is: "
      ],
      "metadata": {
        "id": "dv__5sjqGom4"
      }
    },
    {
      "cell_type": "code",
      "source": [
        "def loss_function(x_train, y_train, curr_theta):\n",
        "\t'''\n",
        "\tx_train: [2xnum_data]\n",
        "\ty_train: [1xnum_data]\n",
        "\t'''\n",
        "\tnum_data = np.shape(y_train)[1]\n",
        "\tassert np.shape(x_train)[1] == np.shape(y_train)[1]\n",
        "\n",
        "\terror = y_train - np.matmul(curr_theta, x_train)  # 1 x num_data \n",
        "\tcost = np.sum(error**2) / (2 * num_data)\n",
        "\treturn cost"
      ],
      "metadata": {
        "id": "0SKssNjrGaUN"
      },
      "execution_count": 4,
      "outputs": []
    },
    {
      "cell_type": "markdown",
      "source": [
        "because we have two theta the x_train will be a matrix of 2xnumber of data. we have a y, so it will be 1xnumber of data."
      ],
      "metadata": {
        "id": "bsZe6tuFIeDN"
      }
    },
    {
      "cell_type": "code",
      "source": [
        "def plot_data(x, y_gt, y_pred):\n",
        "  fig = plt.figure()\n",
        "  ax1 = fig.add_subplot(111)\n",
        "\n",
        "  ax1.scatter(x.flatten(), y_gt.flatten(), s=10, c='b', marker=\"s\", label='first')\n",
        "  ax1.scatter(x.flatten(), y_pred.flatten(), s=10, c='r', marker=\"o\", label='second')\n",
        "  plt.legend(loc='upper left');\n",
        "  plt.show()"
      ],
      "metadata": {
        "id": "RvvkEf-KG2Pg"
      },
      "execution_count": 5,
      "outputs": []
    },
    {
      "cell_type": "markdown",
      "source": [
        "Now that we have the cost we must minimize it. For that we use gradient descent. We multiply the derivative of the cost function with the learning rate(α) and subtract it from the present value of the parameters(θ) to get the new updated parameters(θ)."
      ],
      "metadata": {
        "id": "5O7AQS_eG6yO"
      }
    },
    {
      "cell_type": "code",
      "source": [
        "def gradient_descent(x_train, y_train, curr_theta, learning_rate=0.1, num_steps=1000, thresh: float=1e-5, do_print=True):\n",
        "\t'''\n",
        "\tx_train: [num_features, num_data]\n",
        "\ty_train: [1, num_data]\n",
        "\tcurr_theta: [1, num_features]\n",
        "\t'''\n",
        "\tassert np.shape(x_train)[1] == np.shape(y_train)[1]\n",
        "\n",
        "\tnum_data = np.shape(y_train)[1]\n",
        "\tloss_per_step = []\n",
        "\t\n",
        "\tfor step in range(num_steps):\n",
        "\n",
        "\t\tcurr_predict = np.matmul(curr_theta, x_train)  # 1 x num_data\n",
        "\t\terror = (y_train - curr_predict).T  # num_data x 1\n",
        "\t\tassert np.shape(curr_predict) == np.shape(y_train)\n",
        "\n",
        "\t\tif np.linalg.norm(error) < thresh:\n",
        "\t\t\tbreak\n",
        "\n",
        "\t\td_cost_d_theta = (1/num_data) * (np.matmul(x_train, error)).T # 1 x num_features\n",
        "\t\tnew_theta = curr_theta + (learning_rate) * d_cost_d_theta\n",
        "\n",
        "\t\tnew_loss = loss_function(x_train, y_train, new_theta)\n",
        "\t\tif do_print:\n",
        "\t\t\tprint(f'step = {step}, curr_theta = {curr_theta}, new_theta={new_theta}, new_loss = {new_loss}')\n",
        "\t\tloss_per_step.append(new_loss)\n",
        "\n",
        "\t\tif step >= 2:\n",
        "\t\t\tif (np.abs(loss_per_step[-1] - loss_per_step[-2]) < thresh):\n",
        "\t\t\t\tbreak\n",
        "\t\n",
        "\t\t# update theta \n",
        "\t\tcurr_theta = new_theta\n",
        "\n",
        "\treturn new_theta, loss_per_step"
      ],
      "metadata": {
        "id": "tTk2Tc4uG70-"
      },
      "execution_count": 6,
      "outputs": []
    },
    {
      "cell_type": "markdown",
      "source": [
        "We use assert to be assure that the shape of x and y is same, otherwise we receive an error.\n",
        "I set a tresh=.000001, because if the difference is less than this number, there is no need to continue. It is a small value."
      ],
      "metadata": {
        "id": "Ta8WrccpNlLE"
      }
    },
    {
      "cell_type": "code",
      "source": [
        "x_train = np.load('/content/x_train.npy')\n",
        "y_train = np.load('/content/y_train.npy')\n",
        "\n",
        "x_train = x_train.T\n",
        "y_train = y_train[np.newaxis, :]  # 1 x num_data\n",
        "print(np.shape(x_train), np.shape(y_train))\n",
        "num_training = np.shape(x_train)[1]\n",
        "\n",
        "# to make it easier to work with theta0\n",
        "x_train_bias =  np.vstack((np.ones((1, num_training)), x_train))  # num_features x num_data\n",
        "print(f'x_train_bias = {np.shape(x_train_bias)}')\n",
        "\n",
        "num_features = np.shape(x_train_bias)[0]\n",
        "init_theta = np.zeros((1, num_features))\n",
        "learning_rate = 0.1\n",
        "num_steps = 5000\n",
        "\n",
        "final_theta, loss_history = gradient_descent(x_train_bias, y_train, init_theta, learning_rate, num_steps)\n",
        "plt.figure(); plt.plot(loss_history)"
      ],
      "metadata": {
        "colab": {
          "base_uri": "https://localhost:8080/",
          "height": 1000
        },
        "id": "kguvSzOIHIdW",
        "outputId": "7994f835-ed10-4a89-ec74-607acc6e64cb"
      },
      "execution_count": 7,
      "outputs": [
        {
          "output_type": "stream",
          "name": "stdout",
          "text": [
            "(1, 100) (1, 100)\n",
            "x_train_bias = (2, 100)\n",
            "step = 0, curr_theta = [[0. 0.]], new_theta=[[0.56057372 0.87002367]], new_loss = 106.89049231669031\n",
            "step = 1, curr_theta = [[0.56057372 0.87002367]], new_theta=[[1.08054776 1.49213414]], new_loss = 100.96782261601737\n",
            "step = 2, curr_theta = [[1.08054776 1.49213414]], new_theta=[[1.55957742 1.93909095]], new_loss = 97.04817649222468\n",
            "step = 3, curr_theta = [[1.55957742 1.93909095]], new_theta=[[1.99864519 2.26208176]], new_loss = 94.30294041030082\n",
            "step = 4, curr_theta = [[1.99864519 2.26208176]], new_theta=[[2.39954474 2.49713978]], new_loss = 92.28871388683541\n",
            "step = 5, curr_theta = [[2.39954474 2.49713978]], new_theta=[[2.76453061 2.66964995]], new_loss = 90.75849361440144\n",
            "step = 6, curr_theta = [[2.76453061 2.66964995]], new_theta=[[3.09608288 2.79751323]], new_loss = 89.56739486300738\n",
            "step = 7, curr_theta = [[3.09608288 2.79751323]], new_theta=[[3.39675167 2.89336882]], new_loss = 88.62519195419708\n",
            "step = 8, curr_theta = [[3.39675167 2.89336882]], new_theta=[[3.66905664 2.96615502]], new_loss = 87.87211856933756\n",
            "step = 9, curr_theta = [[3.66905664 2.96615502]], new_theta=[[3.9154243  3.02220561]], new_loss = 87.26628260505106\n",
            "step = 10, curr_theta = [[3.9154243  3.02220561]], new_theta=[[4.13815105 3.06602014]], new_loss = 86.77692820394\n",
            "step = 11, curr_theta = [[4.13815105 3.06602014]], new_theta=[[4.33938357 3.10080534]], new_loss = 86.3806796292857\n",
            "step = 12, curr_theta = [[4.33938357 3.10080534]], new_theta=[[4.52111087 3.12885558]], new_loss = 86.05933614183539\n",
            "step = 13, curr_theta = [[4.52111087 3.12885558]], new_theta=[[4.68516381 3.15182054]], new_loss = 85.7984974862329\n",
            "step = 14, curr_theta = [[4.68516381 3.15182054]], new_theta=[[4.83321947 3.17089347]], new_loss = 85.58665256904573\n",
            "step = 15, curr_theta = [[4.83321947 3.17089347]], new_theta=[[4.96680844 3.18694373]], new_loss = 85.41454018147893\n",
            "step = 16, curr_theta = [[4.96680844 3.18694373]], new_theta=[[5.08732367 3.2006102 ]], new_loss = 85.27467937480077\n",
            "step = 17, curr_theta = [[5.08732367 3.2006102 ]], new_theta=[[5.19603019 3.21236716]], new_loss = 85.16101236921969\n",
            "step = 18, curr_theta = [[5.19603019 3.21236716]], new_theta=[[5.29407494 3.22257077]], new_loss = 85.0686264341112\n",
            "step = 19, curr_theta = [[5.29407494 3.22257077]], new_theta=[[5.38249651 3.23149201]], new_loss = 84.9935337997171\n",
            "step = 20, curr_theta = [[5.38249651 3.23149201]], new_theta=[[5.46223442 3.23934   ]], new_loss = 84.9324957042198\n",
            "step = 21, curr_theta = [[5.46223442 3.23934   ]], new_theta=[[5.53413798 3.24627857]], new_loss = 84.88288082065844\n",
            "step = 22, curr_theta = [[5.53413798 3.24627857]], new_theta=[[5.59897446 3.25243807]], new_loss = 84.842550892728\n",
            "step = 23, curr_theta = [[5.59897446 3.25243807]], new_theta=[[5.65743672 3.25792386]], new_loss = 84.80976812445645\n",
            "step = 24, curr_theta = [[5.65743672 3.25792386]], new_theta=[[5.71015023 3.26282237]], new_loss = 84.78312007388372\n",
            "step = 25, curr_theta = [[5.71015023 3.26282237]], new_theta=[[5.75767942 3.26720554]], new_loss = 84.76145868698428\n",
            "step = 26, curr_theta = [[5.75767942 3.26720554]], new_theta=[[5.80053356 3.27113399]], new_loss = 84.74385078229977\n",
            "step = 27, curr_theta = [[5.80053356 3.27113399]], new_theta=[[5.83917209 3.27465945]], new_loss = 84.72953782209788\n",
            "step = 28, curr_theta = [[5.83917209 3.27465945]], new_theta=[[5.8740094  3.27782646]], new_loss = 84.7179032217261\n",
            "step = 29, curr_theta = [[5.8740094  3.27782646]], new_theta=[[5.90541924 3.28067373]], new_loss = 84.70844578134873\n",
            "step = 30, curr_theta = [[5.90541924 3.28067373]], new_theta=[[5.93373869 3.28323514]], new_loss = 84.70075809183412\n",
            "step = 31, curr_theta = [[5.93373869 3.28323514]], new_theta=[[5.95927171 3.2855405 ]], new_loss = 84.6945089827261\n",
            "step = 32, curr_theta = [[5.95927171 3.2855405 ]], new_theta=[[5.98229238 3.2876162 ]], new_loss = 84.68942925529116\n",
            "step = 33, curr_theta = [[5.98229238 3.2876162 ]], new_theta=[[6.00304786 3.28948568]], new_loss = 84.68530008560523\n",
            "step = 34, curr_theta = [[6.00304786 3.28948568]], new_theta=[[6.02176101 3.29116981]], new_loss = 84.68194359789086\n",
            "step = 35, curr_theta = [[6.02176101 3.29116981]], new_theta=[[6.03863277 3.29268724]], new_loss = 84.67921520191616\n",
            "step = 36, curr_theta = [[6.03863277 3.29268724]], new_theta=[[6.05384431 3.29405468]], new_loss = 84.67699736431396\n",
            "step = 37, curr_theta = [[6.05384431 3.29405468]], new_theta=[[6.06755899 3.29528707]], new_loss = 84.67519454547714\n",
            "step = 38, curr_theta = [[6.06755899 3.29528707]], new_theta=[[6.0799241  3.29639785]], new_loss = 84.67372908390942\n",
            "step = 39, curr_theta = [[6.0799241  3.29639785]], new_theta=[[6.09107243 3.29739909]], new_loss = 84.67253785073217\n",
            "step = 40, curr_theta = [[6.09107243 3.29739909]], new_theta=[[6.10112372 3.29830163]], new_loss = 84.67156953022784\n",
            "step = 41, curr_theta = [[6.10112372 3.29830163]], new_theta=[[6.11018592 3.29911525]], new_loss = 84.67078240926969\n",
            "step = 42, curr_theta = [[6.11018592 3.29911525]], new_theta=[[6.11835635 3.29984872]], new_loss = 84.6701425804111\n",
            "step = 43, curr_theta = [[6.11835635 3.29984872]], new_theta=[[6.12572277 3.30050995]], new_loss = 84.66962248122665\n",
            "step = 44, curr_theta = [[6.12572277 3.30050995]], new_theta=[[6.1323643  3.30110608]], new_loss = 84.66919970698308\n",
            "step = 45, curr_theta = [[6.1323643  3.30110608]], new_theta=[[6.13835227 3.30164351]], new_loss = 84.66885604549236\n",
            "step = 46, curr_theta = [[6.13835227 3.30164351]], new_theta=[[6.14375098 3.30212804]], new_loss = 84.66857669257053\n",
            "step = 47, curr_theta = [[6.14375098 3.30212804]], new_theta=[[6.14861844 3.30256488]], new_loss = 84.66834961430591\n",
            "step = 48, curr_theta = [[6.14861844 3.30256488]], new_theta=[[6.15300691 3.30295871]], new_loss = 84.66816502866446\n",
            "step = 49, curr_theta = [[6.15300691 3.30295871]], new_theta=[[6.15696353 3.30331379]], new_loss = 84.66801498410125\n",
            "step = 50, curr_theta = [[6.15696353 3.30331379]], new_theta=[[6.16053079 3.30363392]], new_loss = 84.66789301702529\n",
            "step = 51, curr_theta = [[6.16053079 3.30363392]], new_theta=[[6.16374702 3.30392254]], new_loss = 84.66779387336226\n",
            "step = 52, curr_theta = [[6.16374702 3.30392254]], new_theta=[[6.16664675 3.30418276]], new_loss = 84.66771328222038\n",
            "step = 53, curr_theta = [[6.16664675 3.30418276]], new_theta=[[6.16926114 3.30441737]], new_loss = 84.66764777190988\n",
            "step = 54, curr_theta = [[6.16926114 3.30441737]], new_theta=[[6.17161825 3.30462889]], new_loss = 84.66759452039021\n",
            "step = 55, curr_theta = [[6.17161825 3.30462889]], new_theta=[[6.17374341 3.3048196 ]], new_loss = 84.66755123370251\n",
            "step = 56, curr_theta = [[6.17374341 3.3048196 ]], new_theta=[[6.17565944 3.30499153]], new_loss = 84.66751604715118\n",
            "step = 57, curr_theta = [[6.17565944 3.30499153]], new_theta=[[6.17738693 3.30514655]], new_loss = 84.66748744497669\n",
            "step = 58, curr_theta = [[6.17738693 3.30514655]], new_theta=[[6.17894442 3.30528632]], new_loss = 84.66746419506003\n",
            "step = 59, curr_theta = [[6.17894442 3.30528632]], new_theta=[[6.18034864 3.30541233]], new_loss = 84.66744529584577\n",
            "step = 60, curr_theta = [[6.18034864 3.30541233]], new_theta=[[6.18161468 3.30552594]], new_loss = 84.66742993319714\n",
            "step = 61, curr_theta = [[6.18161468 3.30552594]], new_theta=[[6.18275614 3.30562837]], new_loss = 84.66741744532493\n",
            "step = 62, curr_theta = [[6.18275614 3.30562837]], new_theta=[[6.18378526 3.30572072]], new_loss = 84.66740729427896\n",
            "step = 63, curr_theta = [[6.18378526 3.30572072]], new_theta=[[6.18471312 3.30580398]], new_loss = 84.66739904277445\n"
          ]
        },
        {
          "output_type": "execute_result",
          "data": {
            "text/plain": [
              "[<matplotlib.lines.Line2D at 0x7f271c7c5e10>]"
            ]
          },
          "metadata": {},
          "execution_count": 7
        },
        {
          "output_type": "display_data",
          "data": {
            "text/plain": [
              "<Figure size 432x288 with 1 Axes>"
            ],
            "image/png": "[encoded data removed]"
          },
          "metadata": {
            "needs_background": "light"
          }
        }
      ]
    },
    {
      "cell_type": "markdown",
      "source": [
        "I used x_train transpose because I wanted to multiply matrix.X_train_bias is a vertical matrix instead of horizontal to make it easier to work.\n",
        "As can be seen after 63 steps we stop. because the last new theta is not significant anymore. the last loss function is almost 85."
      ],
      "metadata": {
        "id": "8HiXFAGSOmRT"
      }
    },
    {
      "cell_type": "code",
      "source": [
        "y_predict = np.matmul(final_theta, x_train_bias)"
      ],
      "metadata": {
        "id": "g8fSEDFiHL7l"
      },
      "execution_count": 8,
      "outputs": []
    },
    {
      "cell_type": "markdown",
      "source": [
        "We apply the final theta on our x_train to achieve a prediction."
      ],
      "metadata": {
        "id": "G_nRGsQzQkZj"
      }
    },
    {
      "cell_type": "code",
      "source": [
        "fig = plt.figure()\n",
        "ax1 = fig.add_subplot(111)\n",
        "\n",
        "ax1.scatter(x_train.flatten(), y_train.flatten(), s=10, c='b', marker=\"s\", label='first')\n",
        "ax1.scatter(x_train.flatten(), y_predict.flatten(), s=10, c='r', marker=\"o\", label='second')\n",
        "plt.legend(loc='upper left');\n",
        "plt.show()"
      ],
      "metadata": {
        "colab": {
          "base_uri": "https://localhost:8080/",
          "height": 265
        },
        "id": "AUEiJUYDHMne",
        "outputId": "7ae9050d-f1c6-4c76-be85-d760580f996b"
      },
      "execution_count": 9,
      "outputs": [
        {
          "output_type": "display_data",
          "data": {
            "text/plain": [
              "<Figure size 432x288 with 1 Axes>"
            ],
            "image/png": "[encoded data removed]"
          },
          "metadata": {
            "needs_background": "light"
          }
        }
      ]
    },
    {
      "cell_type": "markdown",
      "source": [
        "As can be seen it does not fit very well."
      ],
      "metadata": {
        "id": "3kT8niR7Rh9f"
      }
    },
    {
      "cell_type": "code",
      "source": [
        "x_test = np.load('/content/x_test.npy')\n",
        "y_test = np.load('/content/y_test.npy')\n",
        "\n",
        "x_test = x_test.T\n",
        "y_test = y_test[np.newaxis, :]  # 1 x num_data\n",
        "num_test = np.shape(y_test)[1]\n",
        "x_test_bias = np.vstack((np.ones((1, num_test)), x_test)) \n",
        "y_predict_test = np.matmul(final_theta, x_test_bias)\n",
        "fig = plt.figure()\n",
        "ax1 = fig.add_subplot(111)\n",
        "\n",
        "ax1.scatter(x_test.flatten(), y_test.flatten(), s=10, c='b', marker=\"s\", label='first')\n",
        "ax1.scatter(x_test.flatten(), y_predict_test.flatten(), s=10, c='r', marker=\"o\", label='second')\n",
        "plt.legend(loc='upper left');\n",
        "plt.show()"
      ],
      "metadata": {
        "colab": {
          "base_uri": "https://localhost:8080/",
          "height": 265
        },
        "id": "zO9TybWOHR3u",
        "outputId": "570b2812-4214-400d-b7a9-838ceb2512c7"
      },
      "execution_count": 10,
      "outputs": [
        {
          "output_type": "display_data",
          "data": {
            "text/plain": [
              "<Figure size 432x288 with 1 Axes>"
            ],
            "image/png": "[encoded data removed]"
          },
          "metadata": {
            "needs_background": "light"
          }
        }
      ]
    },
    {
      "cell_type": "markdown",
      "source": [
        "We test the prediction in a small segment but it does not fit so far."
      ],
      "metadata": {
        "id": "QsllqRw4SfoA"
      }
    },
    {
      "cell_type": "markdown",
      "source": [
        "#Trying polynomial"
      ],
      "metadata": {
        "id": "Xf4OVllMHVT1"
      }
    },
    {
      "cell_type": "code",
      "source": [
        "x2 = np.square(x_train)\n",
        "x3 = np.power(x_train, 3)\n",
        "x5 = np.power(x_train, 5)\n",
        "sinx = np.sin(x_train)\n",
        "\n",
        "nn_x_train = np.vstack([x_train_bias, x2, x3, x5, sinx])\n",
        "print(np.shape(nn_x_train))"
      ],
      "metadata": {
        "colab": {
          "base_uri": "https://localhost:8080/"
        },
        "id": "7UBjX4R7HZF2",
        "outputId": "b4a1c351-3232-4149-aa2a-e21d3ce9331f"
      },
      "execution_count": 11,
      "outputs": [
        {
          "output_type": "stream",
          "name": "stdout",
          "text": [
            "(6, 100)\n"
          ]
        }
      ]
    },
    {
      "cell_type": "code",
      "source": [
        "num_features = np.shape(nn_x_train)[0]\n",
        "init_theta = np.zeros((1, num_features))\n",
        "learning_rate = 0.001\n",
        "num_steps = 10000\n",
        "\n",
        "final_theta, loss_history = gradient_descent(nn_x_train, y_train, init_theta, learning_rate, num_steps, do_print=False)\n",
        "print(final_theta)\n",
        "plt.figure(); plt.plot(loss_history)\n"
      ],
      "metadata": {
        "colab": {
          "base_uri": "https://localhost:8080/",
          "height": 450
        },
        "id": "Lz6HV_WsHeQ3",
        "outputId": "d17d6ae4-a982-4807-94bc-f14ba404fefa"
      },
      "execution_count": 12,
      "outputs": [
        {
          "output_type": "stream",
          "name": "stderr",
          "text": [
            "/usr/local/lib/python3.7/dist-packages/numpy/core/fromnumeric.py:86: RuntimeWarning: overflow encountered in reduce\n",
            "  return ufunc.reduce(obj, axis, dtype, out, **passkwargs)\n",
            "/usr/local/lib/python3.7/dist-packages/ipykernel_launcher.py:10: RuntimeWarning: overflow encountered in square\n",
            "  # Remove the CWD from sys.path while we load stuff.\n",
            "/usr/local/lib/python3.7/dist-packages/ipykernel_launcher.py:30: RuntimeWarning: invalid value encountered in double_scalars\n",
            "/usr/local/lib/python3.7/dist-packages/ipykernel_launcher.py:21: RuntimeWarning: overflow encountered in matmul\n",
            "/usr/local/lib/python3.7/dist-packages/ipykernel_launcher.py:21: RuntimeWarning: invalid value encountered in matmul\n",
            "/usr/local/lib/python3.7/dist-packages/ipykernel_launcher.py:22: RuntimeWarning: invalid value encountered in add\n"
          ]
        },
        {
          "output_type": "stream",
          "name": "stdout",
          "text": [
            "[[nan nan nan nan nan nan]]\n"
          ]
        },
        {
          "output_type": "execute_result",
          "data": {
            "text/plain": [
              "[<matplotlib.lines.Line2D at 0x7f271c66b3d0>]"
            ]
          },
          "metadata": {},
          "execution_count": 12
        },
        {
          "output_type": "display_data",
          "data": {
            "text/plain": [
              "<Figure size 432x288 with 1 Axes>"
            ],
            "image/png": "[encoded data removed]"
          },
          "metadata": {
            "needs_background": "light"
          }
        }
      ]
    },
    {
      "cell_type": "markdown",
      "source": [
        "As we try some basic functions with the same alpha, suddenly it stops working.\n",
        "What we can do at this situation is that decrease the alpha and see what happens."
      ],
      "metadata": {
        "id": "4wB5wEyQTCGf"
      }
    },
    {
      "cell_type": "code",
      "source": [
        "num_features = np.shape(nn_x_train)[0]\n",
        "init_theta = np.zeros((1, num_features))\n",
        "learning_rate = 0.0001\n",
        "num_steps = 100000\n",
        "\n",
        "final_theta, loss_history = gradient_descent(nn_x_train, y_train, init_theta, learning_rate, num_steps, do_print=False)\n",
        "print(final_theta)\n",
        "plt.figure(); plt.plot(loss_history)"
      ],
      "metadata": {
        "colab": {
          "base_uri": "https://localhost:8080/",
          "height": 300
        },
        "id": "2-4eNeQxHhiu",
        "outputId": "7bc5b4e3-f775-4f1a-c2af-ef794aa31e90"
      },
      "execution_count": 13,
      "outputs": [
        {
          "output_type": "stream",
          "name": "stdout",
          "text": [
            "[[ 5.47916001  3.7355581   0.08618613 -6.58127263  0.91228304  4.72498727]]\n"
          ]
        },
        {
          "output_type": "execute_result",
          "data": {
            "text/plain": [
              "[<matplotlib.lines.Line2D at 0x7f271c330c50>]"
            ]
          },
          "metadata": {},
          "execution_count": 13
        },
        {
          "output_type": "display_data",
          "data": {
            "text/plain": [
              "<Figure size 432x288 with 1 Axes>"
            ],
            "image/png": "[encoded data removed]"
          },
          "metadata": {
            "needs_background": "light"
          }
        }
      ]
    },
    {
      "cell_type": "markdown",
      "source": [
        "It works!!! The loss function is close to zero and we found our theta."
      ],
      "metadata": {
        "id": "imk-GwNzTVf-"
      }
    },
    {
      "cell_type": "code",
      "source": [
        "y_pred = np.matmul(final_theta, nn_x_train)\n",
        "plot_data(\n",
        "    x=x_train,\n",
        "    y_gt=y_train,\n",
        "    y_pred=y_pred\n",
        ")"
      ],
      "metadata": {
        "colab": {
          "base_uri": "https://localhost:8080/",
          "height": 265
        },
        "id": "EmJe7UoLHkQ-",
        "outputId": "96082d92-fa3e-46d8-8298-38da43552a7a"
      },
      "execution_count": 14,
      "outputs": [
        {
          "output_type": "display_data",
          "data": {
            "text/plain": [
              "<Figure size 432x288 with 1 Axes>"
            ],
            "image/png": "[encoded data removed]"
          },
          "metadata": {
            "needs_background": "light"
          }
        }
      ]
    },
    {
      "cell_type": "code",
      "source": [
        "np.shape(y_train)"
      ],
      "metadata": {
        "colab": {
          "base_uri": "https://localhost:8080/"
        },
        "id": "8tK8fgEuHmom",
        "outputId": "4734d735-16ef-4639-f5ce-2c1c21442230"
      },
      "execution_count": 15,
      "outputs": [
        {
          "output_type": "execute_result",
          "data": {
            "text/plain": [
              "(1, 100)"
            ]
          },
          "metadata": {},
          "execution_count": 15
        }
      ]
    },
    {
      "cell_type": "code",
      "source": [
        "final_theta"
      ],
      "metadata": {
        "colab": {
          "base_uri": "https://localhost:8080/"
        },
        "id": "vUSJJMUAHokd",
        "outputId": "d9450919-e13b-4037-b14c-a78f48ec7092"
      },
      "execution_count": 16,
      "outputs": [
        {
          "output_type": "execute_result",
          "data": {
            "text/plain": [
              "array([[ 5.47916001,  3.7355581 ,  0.08618613, -6.58127263,  0.91228304,\n",
              "         4.72498727]])"
            ]
          },
          "metadata": {},
          "execution_count": 16
        }
      ]
    },
    {
      "cell_type": "markdown",
      "source": [
        "The lowest theta is for x square, 0.086. In conclusion, we can somehow ignore x square because it does not really influnce significantly."
      ],
      "metadata": {
        "id": "ufzalNTNU-p4"
      }
    }
  ]
}